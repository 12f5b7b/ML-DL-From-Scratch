{
 "cells": [
  {
   "cell_type": "code",
   "execution_count": 7,
   "id": "9870fda0-3d1b-455a-b5ff-57add69a5175",
   "metadata": {},
   "outputs": [],
   "source": [
    "from knn import KNN\n",
    "import numpy as np\n",
    "import matplotlib.pyplot as plt\n",
    "import seaborn as sns\n",
    "from sklearn.datasets import load_digits\n",
    "from sklearn.model_selection import train_test_split, GridSearchCV\n",
    "from sklearn.neighbors import KNeighborsRegressor, KNeighborsClassifier\n",
    "from sklearn.metrics import accuracy_score\n",
    "from random import choice"
   ]
  },
  {
   "cell_type": "code",
   "execution_count": 8,
   "id": "a2af4422-ee89-4696-b6d7-1a18d0f5054b",
   "metadata": {},
   "outputs": [
    {
     "name": "stdout",
     "output_type": "stream",
     "text": [
      "The autoreload extension is already loaded. To reload it, use:\n",
      "  %reload_ext autoreload\n"
     ]
    }
   ],
   "source": [
    "%load_ext autoreload\n",
    "%autoreload 2"
   ]
  },
  {
   "cell_type": "code",
   "execution_count": 9,
   "id": "250dfde1-fb8f-43ca-addc-9b5570d4d080",
   "metadata": {},
   "outputs": [],
   "source": [
    "digit = load_digits(n_class=5)\n",
    "X_train, X_test, y_train, y_test = train_test_split(digit.data, digit.target, test_size=.8)"
   ]
  },
  {
   "cell_type": "code",
   "execution_count": 10,
   "id": "5291e8f8-1c9f-4910-bbae-36cc9b4bf340",
   "metadata": {},
   "outputs": [
    {
     "data": {
      "text/plain": [
       "(180, 64)"
      ]
     },
     "execution_count": 10,
     "metadata": {},
     "output_type": "execute_result"
    }
   ],
   "source": [
    "X_train.shape"
   ]
  },
  {
   "cell_type": "code",
   "execution_count": 11,
   "id": "b14ab01b-5e79-401c-97cd-c9c242b07830",
   "metadata": {},
   "outputs": [
    {
     "data": {
      "image/png": "[encoded data removed]",
      "text/plain": [
       "<Figure size 720x360 with 25 Axes>"
      ]
     },
     "metadata": {
      "needs_background": "light"
     },
     "output_type": "display_data"
    }
   ],
   "source": [
    "# Display random images splitted by class\n",
    "samples_per_class = 5\n",
    "unique_classes = len(np.unique(y_train))\n",
    "\n",
    "fig, axes = plt.subplots(unique_classes, samples_per_class, figsize=(10, 5))\n",
    "\n",
    "for i_class in range(unique_classes):\n",
    "    for sample in range(samples_per_class):\n",
    "        image = choice(X_train[y_train == i_class])\n",
    "        axes[i_class, sample].imshow(image.reshape(8, 8), cmap='gray')\n",
    "        # axes[i_class, sample].set_title(i_class)\n",
    "        axes[i_class, sample].axis('off')"
   ]
  },
  {
   "cell_type": "markdown",
   "id": "9205067f-d755-4f5c-bf9b-7483da3689aa",
   "metadata": {
    "tags": []
   },
   "source": [
    "### Euclidean Distance:\n",
    "$d(p,q) = \\sqrt{\\sum_{i=1}^{n} (p_{i} - q_{i})^2}$\n",
    "### Manhattan Distance\n",
    "$d(p,q) = {\\sum_{i=1}^{n} |p_{i} - q_{i}|}$\n",
    "### Cosine Distance\n",
    "$d(p,q) = 1 - \\frac {p \\cdot q} {||p||_2||q||_2}$"
   ]
  },
  {
   "cell_type": "code",
   "execution_count": 12,
   "id": "d625baf0-11c9-4964-853d-7ec0593a7422",
   "metadata": {},
   "outputs": [],
   "source": [
    "from knn import euclidean_distance, manhattan_distance, cosine_distance\n",
    "from numpy.linalg import norm \n",
    "from scipy.spatial.distance import cityblock, cosine\n",
    "\n",
    "# Checking the euclidean_distance\n",
    "euclid = euclidean_distance(X_train, X_test)\n",
    "assert np.isclose(euclid[0, 13], norm(X_test[0] - X_train[13]))\n",
    "\n",
    "# Checking the manhattan_distance\n",
    "manhattan = manhattan_distance(X_train, X_test)\n",
    "assert np.isclose(manhattan[0, 13], cityblock(X_test[0], X_train[13]))\n",
    "\n",
    "# Checking the cosine_distance\n",
    "cos_dist = cosine_distance(X_train, X_test)\n",
    "assert np.isclose(cos_dist[0, 13], cosine(X_test[0], X_train[13]))"
   ]
  },
  {
   "cell_type": "code",
   "execution_count": null,
   "id": "fe63d98f-3051-40b6-8c50-f71fa232e178",
   "metadata": {},
   "outputs": [],
   "source": []
  }
 ],
 "metadata": {
  "kernelspec": {
   "display_name": "Python 3 (ipykernel)",
   "language": "python",
   "name": "python3"
  },
  "language_info": {
   "codemirror_mode": {
    "name": "ipython",
    "version": 3
   },
   "file_extension": ".py",
   "mimetype": "text/x-python",
   "name": "python",
   "nbconvert_exporter": "python",
   "pygments_lexer": "ipython3",
   "version": "3.10.4"
  }
 },
 "nbformat": 4,
 "nbformat_minor": 5
}
